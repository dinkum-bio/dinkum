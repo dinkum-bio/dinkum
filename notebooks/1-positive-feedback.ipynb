{
 "cells": [
  {
   "cell_type": "code",
   "execution_count": null,
   "id": "040ae377-699a-471a-bbdf-c469ecfea4d5",
   "metadata": {},
   "outputs": [],
   "source": [
    "import dinkum\n",
    "from dinkum.vfg import Gene, Receptor\n",
    "from dinkum.vfn import Tissue"
   ]
  },
  {
   "cell_type": "markdown",
   "id": "1e9b35b7-c230-4a41-9a1a-cb2cf34bb68b",
   "metadata": {},
   "source": [
    "Change the below code to implement a positive feedback subcircuit:"
   ]
  },
  {
   "cell_type": "code",
   "execution_count": null,
   "id": "989780fe-2f7a-4ac2-ae47-d9ee1bd967ee",
   "metadata": {},
   "outputs": [],
   "source": [
    "dinkum.reset()\n",
    "\n",
    "x = Gene(name='X')\n",
    "y = Gene(name='Y')\n",
    "m = Tissue(name='M')\n",
    "\n",
    "x.is_present(where=m, start=1)\n",
    "\n",
    "# now define a regulatory relationship!\n",
    "y.activated_by(source=x, delay=2)\n",
    "\n",
    "# run for 5 ticks (1 to 10)\n",
    "dinkum.run_and_display(stop=10)"
   ]
  },
  {
   "cell_type": "markdown",
   "id": "c80a7dd5-5511-4543-837b-e28558c23f08",
   "metadata": {},
   "source": [
    "and indeed, we see that these genes are now completely locked on."
   ]
  },
  {
   "cell_type": "code",
   "execution_count": null,
   "id": "2a926379-f81b-410b-adbe-7be0bcea95ac",
   "metadata": {},
   "outputs": [],
   "source": []
  }
 ],
 "metadata": {
  "kernelspec": {
   "display_name": "Python 3 (ipykernel)",
   "language": "python",
   "name": "python3"
  },
  "language_info": {
   "codemirror_mode": {
    "name": "ipython",
    "version": 3
   },
   "file_extension": ".py",
   "mimetype": "text/x-python",
   "name": "python",
   "nbconvert_exporter": "python",
   "pygments_lexer": "ipython3",
   "version": "3.11.6"
  }
 },
 "nbformat": 4,
 "nbformat_minor": 5
}
