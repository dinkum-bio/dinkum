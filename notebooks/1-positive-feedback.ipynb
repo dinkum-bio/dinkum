{
 "cells": [
  {
   "cell_type": "code",
   "execution_count": 1,
   "id": "040ae377-699a-471a-bbdf-c469ecfea4d5",
   "metadata": {
    "execution": {
     "iopub.execute_input": "2025-05-16T16:49:27.215994Z",
     "iopub.status.busy": "2025-05-16T16:49:27.215578Z",
     "iopub.status.idle": "2025-05-16T16:49:27.732945Z",
     "shell.execute_reply": "2025-05-16T16:49:27.732643Z"
    }
   },
   "outputs": [],
   "source": [
    "import dinkum\n",
    "from dinkum.vfg import Gene, Receptor\n",
    "from dinkum.vfn import Tissue"
   ]
  },
  {
   "cell_type": "markdown",
   "id": "1e9b35b7-c230-4a41-9a1a-cb2cf34bb68b",
   "metadata": {},
   "source": [
    "Change the below code to implement a positive feedback subcircuit:"
   ]
  },
  {
   "cell_type": "code",
   "execution_count": 2,
   "id": "989780fe-2f7a-4ac2-ae47-d9ee1bd967ee",
   "metadata": {
    "execution": {
     "iopub.execute_input": "2025-05-16T16:49:27.734672Z",
     "iopub.status.busy": "2025-05-16T16:49:27.734558Z",
     "iopub.status.idle": "2025-05-16T16:49:27.776714Z",
     "shell.execute_reply": "2025-05-16T16:49:27.776463Z"
    }
   },
   "outputs": [
    {
     "name": "stdout",
     "output_type": "stream",
     "text": [
      "initializing: dinkum v0.6.0\n",
      "start=1 stop=10\n"
     ]
    },
    {
     "data": {
      "image/jpeg": "[encoded data removed]",
      "image/png": "[encoded data removed]",
      "text/plain": [
       "<PIL.Image.Image image mode=RGB size=160x380>"
      ]
     },
     "execution_count": 2,
     "metadata": {},
     "output_type": "execute_result"
    }
   ],
   "source": [
    "dinkum.reset()\n",
    "\n",
    "x = Gene(name='X')\n",
    "y = Gene(name='Y')\n",
    "m = Tissue(name='M')\n",
    "\n",
    "x.is_present(where=m, start=1)\n",
    "\n",
    "# now define a regulatory relationship!\n",
    "y.activated_by(source=x, delay=2)\n",
    "\n",
    "# run for 5 ticks (1 to 10)\n",
    "dinkum.run_and_display(stop=10)"
   ]
  },
  {
   "cell_type": "markdown",
   "id": "c80a7dd5-5511-4543-837b-e28558c23f08",
   "metadata": {},
   "source": [
    "and indeed, we see that these genes are now completely locked on."
   ]
  },
  {
   "cell_type": "code",
   "execution_count": null,
   "id": "2a926379-f81b-410b-adbe-7be0bcea95ac",
   "metadata": {},
   "outputs": [],
   "source": []
  }
 ],
 "metadata": {
  "kernelspec": {
   "display_name": "Python 3 (ipykernel)",
   "language": "python",
   "name": "python3"
  },
  "language_info": {
   "codemirror_mode": {
    "name": "ipython",
    "version": 3
   },
   "file_extension": ".py",
   "mimetype": "text/x-python",
   "name": "python",
   "nbconvert_exporter": "python",
   "pygments_lexer": "ipython3",
   "version": "3.11.8"
  },
  "widgets": {
   "application/vnd.jupyter.widget-state+json": {
    "state": {
     "3ea33c05d556466b8ee8b5762d3eac0d": {
      "model_module": "ipycanvas",
      "model_module_version": "^0.13",
      "model_name": "CanvasManagerModel",
      "state": {
       "_model_module": "ipycanvas",
       "_model_module_version": "^0.13",
       "_model_name": "CanvasManagerModel",
       "_view_count": null,
       "_view_module": null,
       "_view_module_version": "",
       "_view_name": null
      }
     }
    },
    "version_major": 2,
    "version_minor": 0
   }
  }
 },
 "nbformat": 4,
 "nbformat_minor": 5
}
