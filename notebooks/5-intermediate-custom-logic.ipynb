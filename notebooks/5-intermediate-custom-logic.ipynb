{
 "cells": [
  {
   "cell_type": "code",
   "execution_count": 1,
   "id": "d67e0524-e3e0-4010-a437-dbb2a7649412",
   "metadata": {},
   "outputs": [],
   "source": [
    "import dinkum\n",
    "from dinkum.vfg import Gene, Receptor\n",
    "from dinkum.vfn import Tissue"
   ]
  },
  {
   "cell_type": "markdown",
   "id": "e61a38ef-a49c-4513-b358-3701cda4832d",
   "metadata": {},
   "source": [
    "# Custom activation logic\n",
    "\n",
    "dinkum supports custom cis-regulatory logic, in which you can write your arbitrary function of regulatory inputs.\n",
    "\n",
    "You have to write a function that lists the gene names & then returns a level of expression (between 0 and 100) and an activity (True or a False). See `custom_and`, `custom_or`, and `custom_not`, below."
   ]
  },
  {
   "cell_type": "code",
   "execution_count": null,
   "id": "1bc1fbf2-0f25-4b89-ad25-7562a6b54ecc",
   "metadata": {},
   "outputs": [],
   "source": [
    "dinkum.reset()\n",
    "\n",
    "# here, use the gene name strings, not the objects -\n",
    "# so, we do not need to define gene named 'X' before writing a function\n",
    "# that uses it.\n",
    "\n",
    "# custom AND\n",
    "def custom_and(*, X, Y):\n",
    "    is_active = (X and Y)\n",
    "    print(f\"custom cis-regulatory logic: and! inputs: gene X={X}, gene Y={Y} => gene active? {is_active}\")\n",
    "    if is_active:\n",
    "        return 100, True\n",
    "    return 0, False\n",
    "\n",
    "x = Gene(name='X')\n",
    "y = Gene(name='Y')\n",
    "z = Gene(name='Z')\n",
    "m = Tissue(name='M')\n",
    "\n",
    "x.is_present(where=m, start=1)\n",
    "y.is_present(where=m, start=2)\n",
    "z.custom_activation(state_fn=custom_and, delay=1)\n",
    "\n",
    "dinkum.run_and_display(stop=3)"
   ]
  },
  {
   "cell_type": "code",
   "execution_count": null,
   "id": "86ba9862-51c0-4941-b0fa-94f4ba9dee1c",
   "metadata": {},
   "outputs": [],
   "source": [
    "dinkum.reset()\n",
    "\n",
    "# custom OR\n",
    "def custom_or(*, X, Y):\n",
    "    is_active = (X or Y)\n",
    "    print(f\"custom cis-regulatory logic: or! inputs: gene X={X}, gene Y={Y} => gene active? {is_active}\")\n",
    "    if is_active:\n",
    "        return 100, True\n",
    "    else:\n",
    "        return 0, False\n",
    "\n",
    "x = Gene(name='X')\n",
    "y = Gene(name='Y')\n",
    "z = Gene(name='Z')\n",
    "m = Tissue(name='M')\n",
    "\n",
    "x.is_present(where=m, start=1)\n",
    "y.is_present(where=m, start=2)\n",
    "z.custom_activation(state_fn=custom_or, delay=1)\n",
    "\n",
    "dinkum.run_and_display(stop=3)"
   ]
  },
  {
   "cell_type": "code",
   "execution_count": null,
   "id": "664964a5-baf1-4d5d-95e2-2776aa02eca4",
   "metadata": {},
   "outputs": [],
   "source": [
    "dinkum.reset()\n",
    "\n",
    "# a not very physiological one - not :)\n",
    "def custom_not(*, X):\n",
    "    is_active = not X\n",
    "    print(f\"custom cis-regulatory logic: not! inputs: gene X={X} => gene active? {is_active}\")\n",
    "    if is_active:\n",
    "        return 100, True\n",
    "    else:\n",
    "        return 0, False\n",
    "\n",
    "x = Gene(name='X')\n",
    "y = Gene(name='Y')\n",
    "m = Tissue(name='M')\n",
    "\n",
    "x.is_present(where=m, start=2)\n",
    "y.custom_activation(state_fn=custom_not, delay=1)\n",
    "\n",
    "dinkum.run_and_display(stop=3)"
   ]
  },
  {
   "cell_type": "markdown",
   "id": "6afbbfa3-699d-4d1e-9dce-54210b978769",
   "metadata": {},
   "source": [
    "## Building more complex input functions\n",
    "\n",
    "You can build input functions that take arbitrary numbers of genes (not just two) and apply more complex logic operations to them.\n",
    "\n",
    "Here's one that activates the downstream gene if one of A and B are active, and one of C and D are active: (A or B) and (C or D)."
   ]
  },
  {
   "cell_type": "code",
   "execution_count": null,
   "id": "490c804a-6c18-4a1c-8b2b-767d3d1f396a",
   "metadata": {},
   "outputs": [],
   "source": [
    "dinkum.reset()\n",
    "\n",
    "# do something more complicated:\n",
    "\n",
    "def custom_complex(*, A, B, C, D):\n",
    "    is_active = (A or B) and (C or D)\n",
    "    print(f\"custom cis-regulatory logic! inputs: gene A={A}, gene B={B}, gene C={C}, gene D={D} => gene active? {is_active}\")\n",
    "    if is_active:\n",
    "        return 100, True\n",
    "    else:\n",
    "        return 0, False\n",
    "\n",
    "a = Gene(name='A')\n",
    "b = Gene(name='B')\n",
    "c = Gene(name='C')\n",
    "d = Gene(name='D')\n",
    "z = Gene(name='Z')\n",
    "m = Tissue(name='M')\n",
    "\n",
    "a.is_present(where=m, start=1, duration=2)\n",
    "b.is_present(where=m, start=2, duration=3)\n",
    "c.is_present(where=m, start=3, duration=3)\n",
    "d.is_present(where=m, start=4, duration=2)\n",
    "z.custom_activation(state_fn=custom_complex, delay=1)\n",
    "\n",
    "dinkum.run_and_display(stop=7)"
   ]
  },
  {
   "cell_type": "markdown",
   "id": "4647d206-4982-4d75-8a98-75783dd0607e",
   "metadata": {},
   "source": [
    "## Building input functions with stochasticity\n",
    "\n",
    "You can use the `random` module to introduce stochastic gene activation (either unbiased - 50/50 - or biased).\n",
    "\n",
    "Here's a function that activates the gene based on an even coin flip (`random.choice([True, False])`)."
   ]
  },
  {
   "cell_type": "code",
   "execution_count": null,
   "id": "2c18bdc3-9339-46df-9e30-1ae838178bdb",
   "metadata": {},
   "outputs": [],
   "source": [
    "dinkum.reset()\n",
    "\n",
    "def custom_random(*, X, Y):\n",
    "    import random\n",
    "    \n",
    "    is_active = random.choice([True, False])\n",
    "    print(f\"custom cis-regulatory logic: random! gene active? {is_active}\")\n",
    "    if is_active:\n",
    "        return 100, True\n",
    "    else:\n",
    "        return 0, False\n",
    "\n",
    "x = Gene(name='X')\n",
    "y = Gene(name='Y')\n",
    "z = Gene(name='Z')\n",
    "m = Tissue(name='M')\n",
    "\n",
    "x.custom_activation(state_fn=custom_random, delay=1)\n",
    "y.custom_activation(state_fn=custom_random, delay=1)\n",
    "z.custom_activation(state_fn=custom_random, delay=1)\n",
    "\n",
    "dinkum.run_and_display(stop=5)"
   ]
  },
  {
   "cell_type": "markdown",
   "id": "0ed084cd-352e-41a6-9ebf-21c95d889cd0",
   "metadata": {},
   "source": [
    "### Biased stochastic activation\n",
    "\n",
    "You can also use other functions from the Python random library, e.g. `randrange`, which lets you select randomly from a range of numbers.\n",
    "\n",
    "Using this you can implement a biased stochastic activation function that (for example) activates a gene 80% of the time.\n",
    "\n",
    "See [the docs for the `random` module for more information](https://docs.python.org/3/library/random.html)."
   ]
  },
  {
   "cell_type": "markdown",
   "id": "1a6ad700-94b8-4543-92dc-e608bbe03c02",
   "metadata": {},
   "source": [
    "### Stochastic but reproducible\n",
    "\n",
    "When debugging, it can be annoying to get new random behavior every time.\n",
    "\n",
    "You can use `random.seed(NUMBER)` to force the function to return random numbers reproducibly. Use `random.seed(1)` (or any other number) to initialize the [pseudo-random number generator](https://en.wikipedia.org/wiki/Pseudorandom_number_generator)."
   ]
  },
  {
   "cell_type": "code",
   "execution_count": null,
   "id": "26605325-27ac-42e0-873f-94f72d193662",
   "metadata": {},
   "outputs": [],
   "source": [
    "dinkum.reset()\n",
    "\n",
    "import random\n",
    "random.seed(1)\n",
    "\n",
    "def custom_random_biased(*, X, Y):\n",
    "    # activate 20% of the time\n",
    "    is_active = random.randrange(0, 100) < 80\n",
    "    print(f\"custom cis-regulatory logic: random 80%! gene active? {is_active}\")\n",
    "    if is_active:\n",
    "        return 100, True\n",
    "    else:\n",
    "        return 0, False\n",
    "\n",
    "x = Gene(name='X')\n",
    "y = Gene(name='Y')\n",
    "z = Gene(name='Z')\n",
    "m = Tissue(name='M')\n",
    "\n",
    "x.custom_activation(state_fn=custom_random_biased, delay=1)\n",
    "y.custom_activation(state_fn=custom_random_biased, delay=1)\n",
    "z.custom_activation(state_fn=custom_random_biased, delay=1)\n",
    "\n",
    "dinkum.run_and_display(stop=5)"
   ]
  },
  {
   "cell_type": "markdown",
   "id": "13c8b2c9-923e-47e7-8128-ee5f4256a956",
   "metadata": {},
   "source": [
    "## You can also more advanced (and also terser) Python notation - lambda\n",
    "\n",
    "`lambda` defines an anonymous function; give it a go:"
   ]
  },
  {
   "cell_type": "code",
   "execution_count": null,
   "id": "e7fc53be-78e8-4938-bda5-b37d3030720d",
   "metadata": {},
   "outputs": [],
   "source": [
    "dinkum.reset()\n",
    "\n",
    "custom_lambda_and = lambda *, X, Y: X and Y\n",
    "\n",
    "x = Gene(name='X')\n",
    "y = Gene(name='Y')\n",
    "z = Gene(name='Z')\n",
    "m = Tissue(name='M')\n",
    "\n",
    "x.is_present(where=m, start=1)\n",
    "y.is_present(where=m, start=2)\n",
    "\n",
    "z.custom_activation(state_fn=custom_lambda_and, delay=1)\n",
    "\n",
    "dinkum.run_and_display(stop=5)"
   ]
  },
  {
   "cell_type": "code",
   "execution_count": null,
   "id": "71670563-b5a3-4b17-a006-0fc5028c159f",
   "metadata": {},
   "outputs": [],
   "source": []
  }
 ],
 "metadata": {
  "kernelspec": {
   "display_name": "Python 3 (ipykernel)",
   "language": "python",
   "name": "python3"
  },
  "language_info": {
   "codemirror_mode": {
    "name": "ipython",
    "version": 3
   },
   "file_extension": ".py",
   "mimetype": "text/x-python",
   "name": "python",
   "nbconvert_exporter": "python",
   "pygments_lexer": "ipython3",
   "version": "3.11.6"
  }
 },
 "nbformat": 4,
 "nbformat_minor": 5
}
