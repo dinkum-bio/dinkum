{
 "cells": [
  {
   "cell_type": "code",
   "execution_count": 1,
   "id": "0ebc72c8-195f-4aed-9efe-7f0d6d77ab91",
   "metadata": {},
   "outputs": [],
   "source": [
    "import dinkum\n",
    "from dinkum.vfg import Gene, Receptor, Ligand\n",
    "from dinkum.vfn import Tissue"
   ]
  },
  {
   "cell_type": "code",
   "execution_count": 2,
   "id": "69cca81b-0d32-496d-9b80-90897d2760e9",
   "metadata": {},
   "outputs": [
    {
     "name": "stdout",
     "output_type": "stream",
     "text": [
      "initializing: dinkum v0.5.0\n"
     ]
    }
   ],
   "source": [
    "dinkum.reset()"
   ]
  },
  {
   "cell_type": "code",
   "execution_count": 3,
   "id": "1930a2de-3533-4edc-bd58-756e4a174726",
   "metadata": {},
   "outputs": [],
   "source": [
    "# define a Gene with name 'X', assign it to variable 'x' in Python\n",
    "x = Gene(name='X')"
   ]
  },
  {
   "cell_type": "code",
   "execution_count": 4,
   "id": "f7903f68-2fb5-4c02-8fac-bb0ce5427b2c",
   "metadata": {},
   "outputs": [],
   "source": [
    "# define another Gene with name 'Y', assign it to variable 'y' in Python\n",
    "y = Gene(name='Y')"
   ]
  },
  {
   "cell_type": "code",
   "execution_count": 5,
   "id": "97ca5169-aebd-4508-8135-2970779c702a",
   "metadata": {},
   "outputs": [],
   "source": [
    "# create a Tissue, and add genes to it.\n",
    "m = Tissue(name='M')"
   ]
  },
  {
   "cell_type": "code",
   "execution_count": 6,
   "id": "70331923-0efe-4207-8272-3c2a0d2c63c0",
   "metadata": {},
   "outputs": [
    {
     "name": "stdout",
     "output_type": "stream",
     "text": [
      "start=1 stop=5\n"
     ]
    },
    {
     "data": {
      "image/jpeg": "[encoded data removed]",
      "image/png": "[encoded data removed]",
      "text/plain": [
       "<PIL.Image.Image image mode=RGB size=160x230>"
      ]
     },
     "execution_count": 6,
     "metadata": {},
     "output_type": "execute_result"
    }
   ],
   "source": [
    "# run for 5 ticks (1 to 5)\n",
    "dinkum.run_and_display(stop=5)"
   ]
  },
  {
   "cell_type": "markdown",
   "id": "c200b6d8-599b-4411-b6af-c86642e242e6",
   "metadata": {},
   "source": [
    "Underwhelming, ehh? All the genes are off because ... we haven't turned any genes on!"
   ]
  },
  {
   "cell_type": "code",
   "execution_count": 7,
   "id": "9f46fd1b-3108-4a10-80e9-482c9f8422d7",
   "metadata": {},
   "outputs": [],
   "source": [
    "# turn 'x' on in tissue m starting at time t\n",
    "x.is_present(where=m, start=1)"
   ]
  },
  {
   "cell_type": "code",
   "execution_count": 8,
   "id": "e6e630ef-ae88-46a6-89fe-c5292bd1bde9",
   "metadata": {},
   "outputs": [
    {
     "name": "stdout",
     "output_type": "stream",
     "text": [
      "start=1 stop=5\n"
     ]
    },
    {
     "data": {
      "image/jpeg": "[encoded data removed]",
      "image/png": "[encoded data removed]",
      "text/plain": [
       "<PIL.Image.Image image mode=RGB size=160x230>"
      ]
     },
     "execution_count": 8,
     "metadata": {},
     "output_type": "execute_result"
    }
   ],
   "source": [
    "# run for 5 ticks (1 to 5)\n",
    "dinkum.run_and_display(stop=5)"
   ]
  },
  {
   "cell_type": "markdown",
   "id": "eeecc139-25ac-4751-9091-757f4336ed5c",
   "metadata": {},
   "source": [
    "Better, but still underwhelming - we haven't defined any regulatory relationships! Let's make X a maternal effect gene by turning it on at time t=1, and then have it positively regulate Y."
   ]
  },
  {
   "cell_type": "code",
   "execution_count": 9,
   "id": "105ddeb7-f891-4de9-8843-431813255d0b",
   "metadata": {},
   "outputs": [
    {
     "name": "stdout",
     "output_type": "stream",
     "text": [
      "initializing: dinkum v0.5.0\n",
      "start=1 stop=5\n"
     ]
    },
    {
     "data": {
      "image/jpeg": "[encoded data removed]",
      "image/png": "[encoded data removed]",
      "text/plain": [
       "<PIL.Image.Image image mode=RGB size=160x230>"
      ]
     },
     "execution_count": 9,
     "metadata": {},
     "output_type": "execute_result"
    }
   ],
   "source": [
    "dinkum.reset()\n",
    "\n",
    "x = Gene(name='X')\n",
    "y = Gene(name='Y')\n",
    "m = Tissue(name='M')\n",
    "\n",
    "x.is_present(where=m, start=1)\n",
    "\n",
    "# now define a regulatory relationship!\n",
    "y.activated_by(source=x, delay=2)\n",
    "\n",
    "# run for 5 ticks (1 to 5)\n",
    "dinkum.run_and_display(stop=5)"
   ]
  },
  {
   "cell_type": "markdown",
   "id": "56ccb725-8f66-4462-a09e-8350d97e6703",
   "metadata": {},
   "source": [
    "Here you can see that Y is activated by X after a delay of 2!\n",
    "\n",
    "So this is kind of the minimum you need for something interesting: you need to two genes; a tissue; a transcriptionally active gene; and a regulatory relationship with the other gene.\n",
    "\n",
    "What kind of regulatory interactions are possible?"
   ]
  },
  {
   "cell_type": "markdown",
   "id": "2b41e365-83ce-4c93-8cac-ac3a155a3dc5",
   "metadata": {},
   "source": [
    "## Cell-autonomous interactions\n",
    "\n",
    "There are many possible gene-gene interactions *within* a cell.\n",
    "\n",
    "We've already seen two - `is_present(where=tissue, start=None, duration=None)` and `activated_by(source, delay=1)`.\n",
    "\n",
    "Here's their description:\n",
    "\n",
    "* `is_present(where=tissue, start=None, duration=None)` - this gene is constitutively \"on\" from tick `start` for duration `duration`.\n",
    "* `activated_by(source, delay=1)` - `source` is an upstream activator that acts at the given delay (in ticks).\n",
    "\n",
    "Here are the remaining cell autonomous gene interactions that we have implemented:\n",
    "\n",
    "* `activated_by_or(sources=[...], delay=1)` - `sources` is a list of upstream activators, any one of which suffices to activate this gene.\n",
    "* `and_not(activator=..., repressor=..., delay=1)` - `activator` activates unless `repressor` is active.\n",
    "* `activated_by_and(sources=[...], delay=1)` - `sources` is a list of upstream activators, all of which must be present to activate this gene."
   ]
  },
  {
   "cell_type": "markdown",
   "id": "267f8a8a-fe60-4925-a3cf-919884411566",
   "metadata": {},
   "source": [
    "## Side note: introducing multiple regulatory influences via lists\n",
    "\n",
    "`activated_by_or` and `activated_by_and` both take *lists* of genes, as opposed to a single gene; to make a Python list, you enclose the genes in square brackets and separate them with commas, e.g. `[x, y]`. The notation is used as below for `z`:"
   ]
  },
  {
   "cell_type": "code",
   "execution_count": 10,
   "id": "3002b20c-6f8c-4730-994e-7713d6888a73",
   "metadata": {},
   "outputs": [
    {
     "name": "stdout",
     "output_type": "stream",
     "text": [
      "initializing: dinkum v0.5.0\n",
      "start=1 stop=7\n"
     ]
    },
    {
     "data": {
      "image/jpeg": "[encoded data removed]",
      "image/png": "[encoded data removed]",
      "text/plain": [
       "<PIL.Image.Image image mode=RGB size=190x290>"
      ]
     },
     "execution_count": 10,
     "metadata": {},
     "output_type": "execute_result"
    }
   ],
   "source": [
    "dinkum.reset()\n",
    "\n",
    "x = Gene(name='X')\n",
    "y = Gene(name='Y')\n",
    "z = Gene(name='Z')\n",
    "m = Tissue(name='M')\n",
    "\n",
    "x.is_present(where=m, start=1, duration=2)\n",
    "y.is_present(where=m, start=4, duration=2)\n",
    "\n",
    "z.activated_by_or(sources=[x, y])\n",
    "\n",
    "# run for 7 ticks\n",
    "dinkum.run_and_display(stop=7)"
   ]
  },
  {
   "cell_type": "markdown",
   "id": "f33cf882-e174-4770-bcb3-cc7a0d273b37",
   "metadata": {},
   "source": [
    "## Non-cell-autonomous regulation: interactions across cells/tissues\n",
    "\n",
    "dinkum provides the concept of \"tissues\", which are simply a collection of cells that have the same regulatory state.\n",
    "\n",
    "With multiple tissues, you need to define their neighborhood relationship - who is next to whom? - and, if you want them to cross-regulate, you need to define signaling factors and receptors.\n",
    "\n",
    "dinkum supports basic _ligands_ (signaling molecules) and _receptors_. In the dinkum model, ligands are genes that are transcribed (and so they must be transcriptionally activated in a tissue), and then they turn on corresponding receptors in neighboring tissues that are inherently transcriptional activators. The receptor also must be transcribed, but is does not activate downstream genes until the ligand is present.\n"
   ]
  },
  {
   "cell_type": "code",
   "execution_count": 11,
   "id": "30bef2e6-21a4-45eb-a155-027e1ed17acb",
   "metadata": {},
   "outputs": [
    {
     "name": "stdout",
     "output_type": "stream",
     "text": [
      "initializing: dinkum v0.5.0\n",
      "start=1 stop=10\n"
     ]
    },
    {
     "data": {
      "image/jpeg": "[encoded data removed]",
      "image/png": "[encoded data removed]",
      "text/plain": [
       "<PIL.Image.Image image mode=RGB size=500x380>"
      ]
     },
     "execution_count": 11,
     "metadata": {},
     "output_type": "execute_result"
    }
   ],
   "source": [
    "dinkum.reset()\n",
    "\n",
    "# create two tissues                                                               \n",
    "m = Tissue(name='M')\n",
    "n = Tissue(name='N')\n",
    "\n",
    "# make them neighbors. This is bidirectional by default.\n",
    "m.add_neighbor(neighbor=n)\n",
    "\n",
    "a = Gene(name='A')          # permanent positive input in M and N; will turn on receptor R                                                                             \n",
    "m.add_gene(gene=a, start=1)\n",
    "b = Gene(name='B')          # permanent positive input in M and N; will turn on receptor R                                                                             \n",
    "n.add_gene(gene=b, start=1)\n",
    "\n",
    "# VFG:                                                                      \n",
    "l = Ligand(name='L', is_juxtacrine=False)  # ligand, by default signals to self\n",
    "r = Receptor(name='R', ligand=l)           # receptor with associated ligand                                  \n",
    "y = Gene(name='Y')                         # output         \n",
    "\n",
    "# ligand L: on in tissue M\n",
    "l.is_present(where=m, start=1, duration=6)\n",
    "\n",
    "# receptor R: transcribed by A, activated by ligand L.\n",
    "r.activated_by_or(sources=[b])\n",
    "\n",
    "# gene Y turned on by receptor R\n",
    "y.activated_by(source=r)    # transcription of Y turned on by activated R.  \n",
    "\n",
    "dinkum.run_and_display(stop=10)"
   ]
  },
  {
   "cell_type": "markdown",
   "id": "81a67315-7d29-4321-b973-2e04fc6bfdaf",
   "metadata": {},
   "source": [
    "## An intentional limitation of dinkum: only one regulatory rule is allowed per gene\n",
    "\n",
    "The following model fails; why?"
   ]
  },
  {
   "cell_type": "code",
   "execution_count": 12,
   "id": "794a158a-5455-45f9-9351-b56d962fd506",
   "metadata": {},
   "outputs": [
    {
     "name": "stdout",
     "output_type": "stream",
     "text": [
      "initializing: dinkum v0.5.0\n"
     ]
    },
    {
     "ename": "DinkumMultipleRules",
     "evalue": "multiple rules containing Gene('Z') are not allowed!",
     "output_type": "error",
     "traceback": [
      "\u001b[0;31m---------------------------------------------------------------------------\u001b[0m",
      "\u001b[0;31mDinkumMultipleRules\u001b[0m                       Traceback (most recent call last)",
      "Cell \u001b[0;32mIn[12], line 16\u001b[0m\n\u001b[1;32m     13\u001b[0m y\u001b[38;5;241m.\u001b[39mis_present(where\u001b[38;5;241m=\u001b[39mm, start\u001b[38;5;241m=\u001b[39m\u001b[38;5;241m1\u001b[39m)\n\u001b[1;32m     15\u001b[0m z\u001b[38;5;241m.\u001b[39mactivated_by(source\u001b[38;5;241m=\u001b[39my, delay\u001b[38;5;241m=\u001b[39m\u001b[38;5;241m1\u001b[39m)\n\u001b[0;32m---> 16\u001b[0m \u001b[43mz\u001b[49m\u001b[38;5;241;43m.\u001b[39;49m\u001b[43mactivated_by\u001b[49m\u001b[43m(\u001b[49m\u001b[43msource\u001b[49m\u001b[38;5;241;43m=\u001b[39;49m\u001b[43mx\u001b[49m\u001b[43m,\u001b[49m\u001b[43m \u001b[49m\u001b[43mdelay\u001b[49m\u001b[38;5;241;43m=\u001b[39;49m\u001b[38;5;241;43m2\u001b[39;49m\u001b[43m)\u001b[49m\n\u001b[1;32m     18\u001b[0m dinkum\u001b[38;5;241m.\u001b[39mrun_and_display(stop\u001b[38;5;241m=\u001b[39m\u001b[38;5;241m10\u001b[39m)\n",
      "File \u001b[0;32m~/dev/dinkum/src/dinkum/vfg.py:516\u001b[0m, in \u001b[0;36mGene.activated_by\u001b[0;34m(self, source, delay)\u001b[0m\n\u001b[1;32m    514\u001b[0m check_is_valid_gene(source)\n\u001b[1;32m    515\u001b[0m ix \u001b[38;5;241m=\u001b[39m Interaction_Activates(source\u001b[38;5;241m=\u001b[39msource, dest\u001b[38;5;241m=\u001b[39m\u001b[38;5;28mself\u001b[39m, delay\u001b[38;5;241m=\u001b[39mdelay)\n\u001b[0;32m--> 516\u001b[0m \u001b[43m_add_rule\u001b[49m\u001b[43m(\u001b[49m\u001b[43mix\u001b[49m\u001b[43m)\u001b[49m\n",
      "File \u001b[0;32m~/dev/dinkum/src/dinkum/vfg.py:36\u001b[0m, in \u001b[0;36m_add_rule\u001b[0;34m(ix)\u001b[0m\n\u001b[1;32m     34\u001b[0m \u001b[38;5;28;01mfor\u001b[39;00m r \u001b[38;5;129;01min\u001b[39;00m _rules:\n\u001b[1;32m     35\u001b[0m     \u001b[38;5;28;01mif\u001b[39;00m r\u001b[38;5;241m.\u001b[39mdest \u001b[38;5;129;01min\u001b[39;00m seen \u001b[38;5;129;01mand\u001b[39;00m \u001b[38;5;129;01mnot\u001b[39;00m r\u001b[38;5;241m.\u001b[39mmultiple_allowed:\n\u001b[0;32m---> 36\u001b[0m         \u001b[38;5;28;01mraise\u001b[39;00m DinkumMultipleRules(\u001b[38;5;124mf\u001b[39m\u001b[38;5;124m\"\u001b[39m\u001b[38;5;124mmultiple rules containing \u001b[39m\u001b[38;5;132;01m{\u001b[39;00mr\u001b[38;5;241m.\u001b[39mdest\u001b[38;5;132;01m}\u001b[39;00m\u001b[38;5;124m are not allowed!\u001b[39m\u001b[38;5;124m\"\u001b[39m)\n\u001b[1;32m     37\u001b[0m     \u001b[38;5;28;01mif\u001b[39;00m \u001b[38;5;129;01mnot\u001b[39;00m r\u001b[38;5;241m.\u001b[39mmultiple_allowed:\n\u001b[1;32m     38\u001b[0m         seen\u001b[38;5;241m.\u001b[39madd(r\u001b[38;5;241m.\u001b[39mdest)\n",
      "\u001b[0;31mDinkumMultipleRules\u001b[0m: multiple rules containing Gene('Z') are not allowed!"
     ]
    }
   ],
   "source": [
    "# NBVAL_SKIP\n",
    "# (this fails automated testing!)\n",
    "\n",
    "dinkum.reset()\n",
    "\n",
    "x = Gene(name='X')\n",
    "y = Gene(name='Y')\n",
    "z = Gene(name='Z')\n",
    "m = Tissue(name='M')\n",
    "\n",
    "x.is_present(where=m, start=1)\n",
    "x.is_present(where=m, start=1)\n",
    "y.is_present(where=m, start=1)\n",
    "\n",
    "z.activated_by(source=y, delay=1)\n",
    "z.activated_by(source=x, delay=2)\n",
    "\n",
    "dinkum.run_and_display(stop=10)"
   ]
  },
  {
   "cell_type": "markdown",
   "id": "fe1c50c3-a4f4-4c32-84ee-3bc99b34a6cf",
   "metadata": {},
   "source": [
    "The problem here is that we're defining two distinct regulatory interactions for `Z` - it's turned on by X and Y both, in two separate rules. That's not allowed, because dinkum doesn't know how to combine the two interactions. So the rule that dinkum enforces is that there has to be one, and only one, regulatory rule defined for each gene.\n",
    "\n",
    "Here the solution would be to use `z.activated_or(sources=[x,y], delay=1)` or `z.activated_and(sources=[x,y])`, which would establish what kind of interaction `X` and `Y` have in the activation of `Z`.\n",
    "\n",
    "Note that maternal rules (`is_present`) are exempt from this rule."
   ]
  },
  {
   "cell_type": "code",
   "execution_count": null,
   "id": "8afab77b-7350-43b0-9031-155f5d5765e7",
   "metadata": {},
   "outputs": [],
   "source": []
  }
 ],
 "metadata": {
  "kernelspec": {
   "display_name": "Python 3 (ipykernel)",
   "language": "python",
   "name": "python3"
  },
  "language_info": {
   "codemirror_mode": {
    "name": "ipython",
    "version": 3
   },
   "file_extension": ".py",
   "mimetype": "text/x-python",
   "name": "python",
   "nbconvert_exporter": "python",
   "pygments_lexer": "ipython3",
   "version": "3.11.6"
  },
  "widgets": {
   "application/vnd.jupyter.widget-state+json": {
    "state": {
     "ff31ac4271bf4c2faaa5fbe5deb364c6": {
      "model_module": "ipycanvas",
      "model_module_version": "^0.13",
      "model_name": "CanvasManagerModel",
      "state": {
       "_model_module": "ipycanvas",
       "_model_module_version": "^0.13",
       "_model_name": "CanvasManagerModel",
       "_view_count": null,
       "_view_module": null,
       "_view_module_version": "",
       "_view_name": null
      }
     }
    },
    "version_major": 2,
    "version_minor": 0
   }
  }
 },
 "nbformat": 4,
 "nbformat_minor": 5
}
