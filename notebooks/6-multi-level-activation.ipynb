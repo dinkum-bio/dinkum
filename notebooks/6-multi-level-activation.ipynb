{
 "cells": [
  {
   "cell_type": "code",
   "execution_count": null,
   "id": "661bbe84-2fad-449c-ad3d-65ec2a56ffc5",
   "metadata": {},
   "outputs": [],
   "source": [
    "import dinkum\n",
    "from dinkum.vfg import Gene, Receptor, Ligand\n",
    "from dinkum.vfn import Tissue\n",
    "from dinkum import vfg, vfn\n",
    "\n",
    "from dinkum.display import MultiTissuePanel, tc_record_activity\n",
    "\n",
    "import pandas as pd\n",
    "from matplotlib import pyplot as plt\n"
   ]
  },
  {
   "cell_type": "markdown",
   "id": "df9c5394-ecf8-42a3-934c-68b11d3bc96f",
   "metadata": {},
   "source": [
    "## Activation at multiple different levels\n",
    "\n",
    "Building input functions with different shapes..."
   ]
  },
  {
   "cell_type": "code",
   "execution_count": null,
   "id": "574a2425-6241-4496-96f8-46223d16ac05",
   "metadata": {},
   "outputs": [],
   "source": [
    "dinkum.reset()\n",
    "\n",
    "m = Tissue(name='M')\n",
    "a = Gene(name='A')\n",
    "b = Gene(name='B')\n",
    "c = Gene(name='C')\n",
    "d = Gene(name='D')\n",
    "\n",
    "output = Gene(name='output')\n",
    "\n",
    "def decay_fn(*, A):\n",
    "    decay = 1.2\n",
    "    return A.level / decay, True\n",
    "\n",
    "def decay_fn2(*, B):\n",
    "    decay = 2\n",
    "    return B.level / decay, True\n",
    "\n",
    "def growth_fn(*, C):\n",
    "    growth = 1/4\n",
    "    return C.level + (100 - C.level) * growth, True\n",
    "\n",
    "def growth_fn2(*, D):\n",
    "    growth = 1/2\n",
    "    return D.level + (100 - D.level) * growth, True\n",
    "    \n",
    "a.is_present(where=m, start=1, duration=1, level=100)\n",
    "b.is_present(where=m, start=1, duration=1, level=100)\n",
    "c.is_present(where=m, start=1, duration=1, level=0)\n",
    "d.is_present(where=m, start=1, duration=1, level=0)\n",
    "\n",
    "a.custom_activation(state_fn=decay_fn)\n",
    "b.custom_activation(state_fn=decay_fn2)\n",
    "c.custom_activation(state_fn=growth_fn)\n",
    "d.custom_activation(state_fn=growth_fn2)\n",
    "\n",
    "gene_names = vfg.get_gene_names()\n",
    "display_fn, conc_df, active_df = dinkum.run_and_display_df(start=1, stop=10, gene_names=gene_names)\n",
    "display_fn"
   ]
  },
  {
   "cell_type": "code",
   "execution_count": null,
   "id": "98d98c7d-9fed-41ec-bc9d-690d8c2fa7a8",
   "metadata": {},
   "outputs": [],
   "source": [
    "# now let's plot the concentrations\n",
    "plt.plot(conc_df.timepoint, conc_df.A, label='gene A')\n",
    "plt.plot(conc_df.timepoint, conc_df.B, label='gene B')\n",
    "plt.plot(conc_df.timepoint, conc_df.C, label='gene C')\n",
    "plt.plot(conc_df.timepoint, conc_df.D, label='gene D')\n",
    "\n",
    "plt.xlabel('time')\n",
    "plt.ylabel('concentration')\n",
    "plt.legend()"
   ]
  },
  {
   "cell_type": "code",
   "execution_count": null,
   "id": "4fbdcbac-3986-400f-a780-df4467b97ece",
   "metadata": {},
   "outputs": [],
   "source": [
    "## Connecting inputs to outputs\n",
    "\n"
   ]
  },
  {
   "cell_type": "code",
   "execution_count": null,
   "id": "11a9a624-893d-48fe-b8da-e318d1b80583",
   "metadata": {},
   "outputs": [],
   "source": [
    "dinkum.reset()\n",
    "\n",
    "m = Tissue(name='M')\n",
    "a = Gene(name='A')\n",
    "b = Gene(name='B')\n",
    "\n",
    "output1 = Gene(name='out1')\n",
    "output2 = Gene(name='out2')\n",
    "output3 = Gene(name='out3')\n",
    "\n",
    "def decay_fn(*, A):\n",
    "    decay = 1.2\n",
    "    return A.level / decay, True\n",
    "\n",
    "def growth_fn(*, B):\n",
    "    growth = 1/4\n",
    "    return B.level + (100 - B.level) * growth, True\n",
    "\n",
    "def left(*, A, B):\n",
    "    if A.level >= 60:\n",
    "        return 100, True\n",
    "    else:\n",
    "        return 0, False\n",
    "\n",
    "def middle(*, A, B):\n",
    "    if A.level < 80 and B.level > 50 and B.level < 80:\n",
    "        return 100, True\n",
    "    else:\n",
    "        return 0, False\n",
    "\n",
    "def right(*, A, B):\n",
    "    if A.level < 80 and B.level > 80:\n",
    "        return 100, True\n",
    "    else:\n",
    "        return 0, False\n",
    "\n",
    "a.is_present(where=m, start=1, duration=1, level=100)\n",
    "b.is_present(where=m, start=1, duration=1, level=0)\n",
    "\n",
    "a.custom_activation(state_fn=decay_fn)\n",
    "b.custom_activation(state_fn=growth_fn)\n",
    "\n",
    "output1.custom_activation(state_fn=left)\n",
    "output2.custom_activation(state_fn=middle)\n",
    "output3.custom_activation(state_fn=right)\n",
    "\n",
    "gene_names = vfg.get_gene_names()\n",
    "display_fn, conc_df, active_df = dinkum.run_and_display_df(start=1, stop=10, gene_names=gene_names)\n",
    "display_fn"
   ]
  },
  {
   "cell_type": "code",
   "execution_count": null,
   "id": "65941b69-6f4b-43f6-8c41-fdcf27d5105a",
   "metadata": {},
   "outputs": [],
   "source": [
    "# now let's plot the concentrations\n",
    "plt.plot(conc_df.timepoint, conc_df.A, label='gene A')\n",
    "plt.plot(conc_df.timepoint, conc_df.B, label='gene B')\n",
    "plt.plot(conc_df.timepoint, conc_df.out1, label='out1')\n",
    "plt.plot(conc_df.timepoint, conc_df.out2, label='out2')\n",
    "plt.plot(conc_df.timepoint, conc_df.out3, label='out3')\n",
    "\n",
    "plt.xlabel('time')\n",
    "plt.ylabel('concentration')\n",
    "plt.legend()"
   ]
  },
  {
   "cell_type": "code",
   "execution_count": null,
   "id": "3f3c702c-d5bb-46d7-8c5f-150e24be732e",
   "metadata": {},
   "outputs": [],
   "source": []
  }
 ],
 "metadata": {
  "kernelspec": {
   "display_name": "Python 3 (ipykernel)",
   "language": "python",
   "name": "python3"
  },
  "language_info": {
   "codemirror_mode": {
    "name": "ipython",
    "version": 3
   },
   "file_extension": ".py",
   "mimetype": "text/x-python",
   "name": "python",
   "nbconvert_exporter": "python",
   "pygments_lexer": "ipython3",
   "version": "3.11.6"
  }
 },
 "nbformat": 4,
 "nbformat_minor": 5
}
