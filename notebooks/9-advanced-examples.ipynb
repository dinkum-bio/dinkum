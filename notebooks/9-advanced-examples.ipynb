{
 "cells": [
  {
   "cell_type": "code",
   "execution_count": 1,
   "id": "f788b847-cd62-4dc2-960b-9df9bcc9149f",
   "metadata": {
    "execution": {
     "iopub.execute_input": "2025-05-16T16:49:43.913361Z",
     "iopub.status.busy": "2025-05-16T16:49:43.912890Z",
     "iopub.status.idle": "2025-05-16T16:49:44.597545Z",
     "shell.execute_reply": "2025-05-16T16:49:44.597264Z"
    }
   },
   "outputs": [],
   "source": [
    "import dinkum\n",
    "from dinkum.vfg import Gene, Receptor\n",
    "from dinkum.vfn import Tissue\n",
    "\n",
    "from dinkum.display import MultiTissuePanel, tc_record_activity"
   ]
  },
  {
   "cell_type": "markdown",
   "id": "48c386cd-352e-4c56-b926-cf1b650f43d1",
   "metadata": {},
   "source": [
    "# More advanced functionality\n",
    "\n",
    "For those who want to do more programming... dinkum is written in Python and you can access a lot of the internals. It's not super convenient though!"
   ]
  },
  {
   "cell_type": "markdown",
   "id": "ead8d154-f468-45c2-bb5a-59c232d4ffa0",
   "metadata": {},
   "source": [
    "## Accessing tissue/gene activity programmatically\n",
    "\n",
    "Here's an example where we directly access the gene states by tissue and timepoint."
   ]
  },
  {
   "cell_type": "code",
   "execution_count": 2,
   "id": "d46114c7-6b8d-4883-8a8d-5cec778f20b1",
   "metadata": {
    "execution": {
     "iopub.execute_input": "2025-05-16T16:49:44.599219Z",
     "iopub.status.busy": "2025-05-16T16:49:44.599103Z",
     "iopub.status.idle": "2025-05-16T16:49:44.607511Z",
     "shell.execute_reply": "2025-05-16T16:49:44.607266Z"
    }
   },
   "outputs": [
    {
     "name": "stdout",
     "output_type": "stream",
     "text": [
      "initializing: dinkum v0.6.0\n",
      "start=1 stop=5\n",
      "got 1 tissues.\n",
      "\ttissue M\n",
      "\n",
      "1 M {'X': <level=100,active=True>, 'Y': <level=0,active=True>}\n",
      "2 M {'X': <level=100,active=True>, 'Y': <level=0,active=True>}\n",
      "3 M {'X': <level=100,active=True>, 'Y': <level=100,active=True>}\n",
      "4 M {'X': <level=100,active=True>, 'Y': <level=100,active=True>}\n",
      "5 M {'X': <level=100,active=True>, 'Y': <level=100,active=True>}\n",
      "t=1\n",
      "\ttissue=M, ['X=100 (1)', 'Y=0 (1)']\n",
      "t=2\n",
      "\ttissue=M, ['X=100 (1)', 'Y=0 (1)']\n",
      "t=3\n",
      "\ttissue=M, ['X=100 (1)', 'Y=100 (1)']\n",
      "t=4\n",
      "\ttissue=M, ['X=100 (1)', 'Y=100 (1)']\n",
      "t=5\n",
      "\ttissue=M, ['X=100 (1)', 'Y=100 (1)']\n",
      "<level=0,active=True>\n",
      "<level=100,active=True>\n"
     ]
    }
   ],
   "source": [
    "dinkum.reset()\n",
    "\n",
    "x = Gene(name='X')\n",
    "y = Gene(name='Y')\n",
    "m = Tissue(name='M')\n",
    "\n",
    "x.is_present(where=m, start=1)\n",
    "\n",
    "# now define a regulatory relationship!\n",
    "y.activated_by(source=x, delay=2)\n",
    "\n",
    "# run for 5 ticks (1 to 5)\n",
    "gene_names = dinkum.vfg.get_gene_names()\n",
    "tissue_names = dinkum.vfn.get_tissue_names()\n",
    "\n",
    "states = tc_record_activity(start=1, stop=5, gene_names=gene_names, verbose=True)\n",
    "\n",
    "mp = MultiTissuePanel(states=states, tissue_names=tissue_names, gene_names=gene_names)\n",
    "mp.draw(states)\n",
    "\n",
    "## access individual tissue/time activity\n",
    "print(states.get_gene_state_info(timepoint=1, tissue=m, gene=y))\n",
    "print(states.get_gene_state_info(timepoint=5, tissue=m, gene=y))"
   ]
  },
  {
   "cell_type": "code",
   "execution_count": null,
   "id": "b84dc0a0-a14c-47b5-a424-ae587e9a533f",
   "metadata": {},
   "outputs": [],
   "source": []
  }
 ],
 "metadata": {
  "kernelspec": {
   "display_name": "Python 3 (ipykernel)",
   "language": "python",
   "name": "python3"
  },
  "language_info": {
   "codemirror_mode": {
    "name": "ipython",
    "version": 3
   },
   "file_extension": ".py",
   "mimetype": "text/x-python",
   "name": "python",
   "nbconvert_exporter": "python",
   "pygments_lexer": "ipython3",
   "version": "3.11.8"
  },
  "widgets": {
   "application/vnd.jupyter.widget-state+json": {
    "state": {
     "fd564239744b482da27a141c21e19817": {
      "model_module": "ipycanvas",
      "model_module_version": "^0.13",
      "model_name": "CanvasManagerModel",
      "state": {
       "_model_module": "ipycanvas",
       "_model_module_version": "^0.13",
       "_model_name": "CanvasManagerModel",
       "_view_count": null,
       "_view_module": null,
       "_view_module_version": "",
       "_view_name": null
      }
     }
    },
    "version_major": 2,
    "version_minor": 0
   }
  }
 },
 "nbformat": 4,
 "nbformat_minor": 5
}
