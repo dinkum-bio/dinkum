{
 "cells": [
  {
   "cell_type": "code",
   "execution_count": 1,
   "id": "0ebc72c8-195f-4aed-9efe-7f0d6d77ab91",
   "metadata": {},
   "outputs": [],
   "source": [
    "import dinkum\n",
    "from dinkum.vfg import Gene, Receptor\n",
    "from dinkum.vfn import Tissue\n",
    "#from dinkum import Timecourse\n",
    "\n",
    "from dinkum.display import MultiTissuePanel, tc_record_activity"
   ]
  },
  {
   "cell_type": "code",
   "execution_count": 2,
   "id": "69cca81b-0d32-496d-9b80-90897d2760e9",
   "metadata": {},
   "outputs": [],
   "source": [
    "dinkum.reset()"
   ]
  },
  {
   "cell_type": "code",
   "execution_count": 12,
   "id": "1930a2de-3533-4edc-bd58-756e4a174726",
   "metadata": {},
   "outputs": [],
   "source": [
    "# define a Gene with name 'X', assign it to variable 'x' in Python\n",
    "x = Gene(name='X')"
   ]
  },
  {
   "cell_type": "code",
   "execution_count": 13,
   "id": "f7903f68-2fb5-4c02-8fac-bb0ce5427b2c",
   "metadata": {},
   "outputs": [],
   "source": [
    "# define another Gene with name 'Y', assign it to variable 'y' in Python\n",
    "y = Gene(name='Y')"
   ]
  },
  {
   "cell_type": "code",
   "execution_count": 14,
   "id": "97ca5169-aebd-4508-8135-2970779c702a",
   "metadata": {},
   "outputs": [],
   "source": [
    "# create a Tissue, and add genes to it.\n",
    "m = Tissue(name='M')"
   ]
  },
  {
   "cell_type": "code",
   "execution_count": 15,
   "id": "70331923-0efe-4207-8272-3c2a0d2c63c0",
   "metadata": {},
   "outputs": [
    {
     "name": "stdout",
     "output_type": "stream",
     "text": [
      "start=1 stop=5\n"
     ]
    }
   ],
   "source": [
    "# run for 5 ticks (1 to 5)\n",
    "states, tissues, is_active_fn = tc_record_activity(stop=5)"
   ]
  },
  {
   "cell_type": "code",
   "execution_count": 16,
   "id": "2108cf29-2026-4269-ad1a-910ed3a10624",
   "metadata": {},
   "outputs": [],
   "source": [
    "# create a display\n",
    "mp = MultiTissuePanel(states=states, tissue_names=['M'], genes_by_name=['X', 'Y'])"
   ]
  },
  {
   "cell_type": "code",
   "execution_count": 17,
   "id": "b892b78f-8137-4b8e-9ff5-7fd72cb5bdfc",
   "metadata": {},
   "outputs": [
    {
     "data": {
      "image/jpeg": "[encoded data removed]",
      "image/png": "[encoded data removed]",
      "text/plain": [
       "<PIL.Image.Image image mode=RGB size=160x230>"
      ]
     },
     "execution_count": 17,
     "metadata": {},
     "output_type": "execute_result"
    }
   ],
   "source": [
    "mp.draw(is_active_fn)"
   ]
  },
  {
   "cell_type": "markdown",
   "id": "c200b6d8-599b-4411-b6af-c86642e242e6",
   "metadata": {},
   "source": [
    "Underwhelming, ehh? We haven't turned any genes on!\n",
    "\n",
    "@CTB why is M where it is..."
   ]
  },
  {
   "cell_type": "code",
   "execution_count": 18,
   "id": "9f46fd1b-3108-4a10-80e9-482c9f8422d7",
   "metadata": {},
   "outputs": [],
   "source": [
    "x.is_present(where=m, start=1)\n",
    "# @CTB shouldn't M be a tissue name, rather than a tissue object?"
   ]
  },
  {
   "cell_type": "code",
   "execution_count": 21,
   "id": "e6e630ef-ae88-46a6-89fe-c5292bd1bde9",
   "metadata": {},
   "outputs": [
    {
     "name": "stdout",
     "output_type": "stream",
     "text": [
      "start=1 stop=5\n"
     ]
    },
    {
     "data": {
      "image/jpeg": "[encoded data removed]",
      "image/png": "[encoded data removed]",
      "text/plain": [
       "<PIL.Image.Image image mode=RGB size=160x230>"
      ]
     },
     "execution_count": 21,
     "metadata": {},
     "output_type": "execute_result"
    }
   ],
   "source": [
    "# run for 5 ticks (1 to 5)\n",
    "states, tissues, is_active_fn = tc_record_activity(stop=5)\n",
    "# @CTB why is all this returned, can we make it simpler??\n",
    "mp = MultiTissuePanel(states=states, tissue_names=['M'], genes_by_name=['X', 'Y'])\n",
    "# @CTB have 'mp' object by default draw?\n",
    "mp.draw(is_active_fn)"
   ]
  },
  {
   "cell_type": "markdown",
   "id": "eeecc139-25ac-4751-9091-757f4336ed5c",
   "metadata": {},
   "source": [
    "Still underwhelming - we haven't defined any regulatory relationships!"
   ]
  },
  {
   "cell_type": "code",
   "execution_count": 26,
   "id": "105ddeb7-f891-4de9-8843-431813255d0b",
   "metadata": {},
   "outputs": [
    {
     "name": "stdout",
     "output_type": "stream",
     "text": [
      "start=1 stop=5\n"
     ]
    },
    {
     "data": {
      "image/jpeg": "[encoded data removed]",
      "image/png": "[encoded data removed]",
      "text/plain": [
       "<PIL.Image.Image image mode=RGB size=160x230>"
      ]
     },
     "execution_count": 26,
     "metadata": {},
     "output_type": "execute_result"
    }
   ],
   "source": [
    "dinkum.reset()\n",
    "\n",
    "# @CTB allow updating of rules instead of resetting?\n",
    "x = Gene(name='X')\n",
    "y = Gene(name='Y')\n",
    "m = Tissue(name='M')\n",
    "\n",
    "x.is_present(where=m, start=1)\n",
    "\n",
    "\n",
    "# now define a regulatory relationship!\n",
    "y.activated_by(source=x, delay=2)\n",
    "\n",
    "# run for 5 ticks (1 to 5)\n",
    "states, tissues, is_active_fn = tc_record_activity(stop=5)\n",
    "mp = MultiTissuePanel(states=states, tissue_names=['M'], genes_by_name=['X', 'Y'])\n",
    "mp.draw(is_active_fn)"
   ]
  },
  {
   "cell_type": "markdown",
   "id": "2b41e365-83ce-4c93-8cac-ac3a155a3dc5",
   "metadata": {},
   "source": [
    "## Possible cell-autonomous interactions\n",
    "\n",
    "There are many possible gene-gene interactions *within* a cell.\n",
    "\n",
    "We've already seen two - `is_present(where=tissue, start=None, duration=None)` and `activated_by(source, delay=1)`.\n",
    "\n",
    "Here's their description:\n",
    "\n",
    "* `is_present(where=tissue, start=None, duration=None)` - this gene is constitutively \"on\" from tick `start` for duration `duration`.\n",
    "* `activated_by(source, delay=1)` - `source` is an upstream activator that acts at the given delay (in ticks).\n",
    "\n",
    "Here are the remaining cell autonomous gene interactions that we have implemented:\n",
    "\n",
    "* `activated_or(sources=[...], delay=1)` - `sources` is a list of upstream activators, any one of which suffices to activate this gene.\n",
    "* `and_not(activator=..., repressor=..., delay=1)` - `actvator` activates unless `repressor` is active.\n",
    "* `activated_by_and(sources=[...], delay=1)` - `sources` is a list of upstream activators, all of which must be present to activate this gene.\n",
    "* `toggle_repressed(tf=..., cofactor=..., delay=1)` - this gene is repressed if `tf` is absent, or if `tf` is present without `cofactor`; it is active if both`tf` and `cofactor` are present. **@CTB isn't this basically the same as activated_by_and?**\n"
   ]
  },
  {
   "cell_type": "markdown",
   "id": "267f8a8a-fe60-4925-a3cf-919884411566",
   "metadata": {},
   "source": [
    "## Side note: introducing lists\n",
    "\n",
    "`activated_or` and `activated_by_and` both take *lists* of genes, as opposed to a single gene. The notation is as follows:"
   ]
  },
  {
   "cell_type": "code",
   "execution_count": null,
   "id": "3002b20c-6f8c-4730-994e-7713d6888a73",
   "metadata": {},
   "outputs": [],
   "source": [
    "dinkum.reset()\n",
    "\n",
    "# @CTB allow updating of rules instead of resetting?\n",
    "x = Gene(name='X')\n",
    "y = Gene(name='Y')\n",
    "z = Gene(name='Z')\n",
    "m = Tissue(name='M')\n",
    "\n",
    "x.is_present(where=m, start=1, duration=2)\n",
    "\n",
    "y.is_present(where=m, \n",
    "\n",
    "# run for 10 ticks\n",
    "states, tissues, is_active_fn = tc_record_activity(stop=10)\n",
    "mp = MultiTissuePanel(states=states, tissue_names=['M'], genes_by_name=['X', 'Y', 'Z'])\n",
    "mp.draw(is_active_fn)"
   ]
  }
 ],
 "metadata": {
  "kernelspec": {
   "display_name": "Python 3 (ipykernel)",
   "language": "python",
   "name": "python3"
  },
  "language_info": {
   "codemirror_mode": {
    "name": "ipython",
    "version": 3
   },
   "file_extension": ".py",
   "mimetype": "text/x-python",
   "name": "python",
   "nbconvert_exporter": "python",
   "pygments_lexer": "ipython3",
   "version": "3.11.6"
  }
 },
 "nbformat": 4,
 "nbformat_minor": 5
}
