{
 "cells": [
  {
   "cell_type": "markdown",
   "id": "5dc07a6c-6b6c-498d-be6c-77f41addb5f7",
   "metadata": {},
   "source": [
    "## Fitting activator function parameters to match desired outputs\n",
    "\n",
    "![](images/7-multi-level-activation.png)\n",
    "\n",
    "Let's revisit the multi-level activation notebook, where we activate three different genes at three different concentrations.\n",
    "\n",
    "But, this time, let's not specify any parameters for the various functions. Instead, let's lay out our _desired_ time course and tell dinkum to figure out what parameters to use. The only thing we need to do is tell it what activator functions we want."
   ]
  },
  {
   "cell_type": "code",
   "execution_count": 1,
   "id": "661bbe84-2fad-449c-ad3d-65ec2a56ffc5",
   "metadata": {
    "execution": {
     "iopub.execute_input": "2025-05-16T16:49:41.836262Z",
     "iopub.status.busy": "2025-05-16T16:49:41.835745Z",
     "iopub.status.idle": "2025-05-16T16:49:42.504428Z",
     "shell.execute_reply": "2025-05-16T16:49:42.504160Z"
    }
   },
   "outputs": [],
   "source": [
    "import dinkum\n",
    "from dinkum.vfg import Gene, Receptor, Ligand\n",
    "from dinkum.vfn import Tissue\n",
    "from dinkum import vfg, vfn, vfg_functions\n",
    "from dinkum.vfg import Decay, Growth, Repressor, Activator, GeneTimecourse\n",
    "\n",
    "import pandas as pd\n",
    "from matplotlib import pyplot as plt"
   ]
  },
  {
   "cell_type": "code",
   "execution_count": 2,
   "id": "11a9a624-893d-48fe-b8da-e318d1b80583",
   "metadata": {
    "execution": {
     "iopub.execute_input": "2025-05-16T16:49:42.506088Z",
     "iopub.status.busy": "2025-05-16T16:49:42.505967Z",
     "iopub.status.idle": "2025-05-16T16:49:42.651125Z",
     "shell.execute_reply": "2025-05-16T16:49:42.650882Z"
    }
   },
   "outputs": [
    {
     "name": "stdout",
     "output_type": "stream",
     "text": [
      "initializing: dinkum v0.6.0\n"
     ]
    },
    {
     "ename": "AttributeError",
     "evalue": "'Gene' object has no attribute 'custom2'",
     "output_type": "error",
     "traceback": [
      "\u001b[0;31m---------------------------------------------------------------------------\u001b[0m",
      "\u001b[0;31mAttributeError\u001b[0m                            Traceback (most recent call last)",
      "Cell \u001b[0;32mIn[2], line 11\u001b[0m\n\u001b[1;32m      8\u001b[0m out2 \u001b[38;5;241m=\u001b[39m Gene(name\u001b[38;5;241m=\u001b[39m\u001b[38;5;124m'\u001b[39m\u001b[38;5;124mout2\u001b[39m\u001b[38;5;124m'\u001b[39m)\n\u001b[1;32m      9\u001b[0m out3 \u001b[38;5;241m=\u001b[39m Gene(name\u001b[38;5;241m=\u001b[39m\u001b[38;5;124m'\u001b[39m\u001b[38;5;124mout3\u001b[39m\u001b[38;5;124m'\u001b[39m)\n\u001b[0;32m---> 11\u001b[0m \u001b[43ma\u001b[49m\u001b[38;5;241;43m.\u001b[39;49m\u001b[43mcustom2\u001b[49m(Decay(rate\u001b[38;5;241m=\u001b[39m\u001b[38;5;241m1.2\u001b[39m, tissue\u001b[38;5;241m=\u001b[39mm))\n\u001b[1;32m     12\u001b[0m b\u001b[38;5;241m.\u001b[39mcustom2(Growth(rate\u001b[38;5;241m=\u001b[39m\u001b[38;5;241m0.25\u001b[39m, tissue\u001b[38;5;241m=\u001b[39mm))\n\u001b[1;32m     14\u001b[0m out1\u001b[38;5;241m.\u001b[39mcustom2(Activator(activator_name\u001b[38;5;241m=\u001b[39m\u001b[38;5;124m'\u001b[39m\u001b[38;5;124mA\u001b[39m\u001b[38;5;124m'\u001b[39m))\n",
      "\u001b[0;31mAttributeError\u001b[0m: 'Gene' object has no attribute 'custom2'"
     ]
    }
   ],
   "source": [
    "dinkum.reset()\n",
    "\n",
    "m = Tissue(name='M')\n",
    "a = Gene(name='A')\n",
    "b = Gene(name='B')\n",
    "\n",
    "out1 = Gene(name='out1')\n",
    "out2 = Gene(name='out2')\n",
    "out3 = Gene(name='out3')\n",
    "\n",
    "a.custom2(Decay(rate=1.2, tissue=m))\n",
    "b.custom2(Growth(rate=0.25, tissue=m))\n",
    "\n",
    "out1.custom2(Activator(activator_name='A'))\n",
    "out2.custom2(Repressor(activator_name='B', repressor_name='B'))\n",
    "out3.custom2(Activator(activator_name='B'))\n",
    "\n",
    "gene_names = vfg.get_gene_names()\n",
    "display_fn, conc_df, active_df = dinkum.run_and_display_df(start=1, stop=10, gene_names=gene_names)\n",
    "display_fn"
   ]
  },
  {
   "cell_type": "code",
   "execution_count": 3,
   "id": "65941b69-6f4b-43f6-8c41-fdcf27d5105a",
   "metadata": {
    "execution": {
     "iopub.execute_input": "2025-05-16T16:49:42.652626Z",
     "iopub.status.busy": "2025-05-16T16:49:42.652525Z",
     "iopub.status.idle": "2025-05-16T16:49:42.659523Z",
     "shell.execute_reply": "2025-05-16T16:49:42.659281Z"
    },
    "scrolled": true
   },
   "outputs": [
    {
     "ename": "NameError",
     "evalue": "name 'conc_df' is not defined",
     "output_type": "error",
     "traceback": [
      "\u001b[0;31m---------------------------------------------------------------------------\u001b[0m",
      "\u001b[0;31mNameError\u001b[0m                                 Traceback (most recent call last)",
      "Cell \u001b[0;32mIn[3], line 2\u001b[0m\n\u001b[1;32m      1\u001b[0m \u001b[38;5;66;03m# now let's plot the concentrations\u001b[39;00m\n\u001b[0;32m----> 2\u001b[0m \u001b[43mconc_df\u001b[49m[[\u001b[38;5;124m'\u001b[39m\u001b[38;5;124mout1\u001b[39m\u001b[38;5;124m'\u001b[39m, \u001b[38;5;124m'\u001b[39m\u001b[38;5;124mout2\u001b[39m\u001b[38;5;124m'\u001b[39m, \u001b[38;5;124m'\u001b[39m\u001b[38;5;124mout3\u001b[39m\u001b[38;5;124m'\u001b[39m]]\u001b[38;5;241m.\u001b[39mplot()\n\u001b[1;32m      3\u001b[0m plt\u001b[38;5;241m.\u001b[39mylabel(\u001b[38;5;124m'\u001b[39m\u001b[38;5;124mlevel\u001b[39m\u001b[38;5;124m'\u001b[39m)\n",
      "\u001b[0;31mNameError\u001b[0m: name 'conc_df' is not defined"
     ]
    }
   ],
   "source": [
    "# now let's plot the concentrations\n",
    "conc_df[['out1', 'out2', 'out3']].plot()\n",
    "plt.ylabel('level')\n"
   ]
  },
  {
   "cell_type": "code",
   "execution_count": 4,
   "id": "6bd04e36-461a-42d5-893d-0bc3a74374df",
   "metadata": {
    "execution": {
     "iopub.execute_input": "2025-05-16T16:49:42.660825Z",
     "iopub.status.busy": "2025-05-16T16:49:42.660745Z",
     "iopub.status.idle": "2025-05-16T16:49:42.662668Z",
     "shell.execute_reply": "2025-05-16T16:49:42.662453Z"
    }
   },
   "outputs": [],
   "source": [
    "# our desired pattern of expression over time:\n",
    "out1_goal = GeneTimecourse(values=[1, 1, 1], start_time=2, tissue=m)\n",
    "out2_goal = GeneTimecourse(values=[1, 1, 1], start_time=5, tissue=m)\n",
    "out3_goal = GeneTimecourse(values=[1, 1, 1], start_time=8, tissue=m)"
   ]
  },
  {
   "cell_type": "code",
   "execution_count": 5,
   "id": "60f8b614-f83d-4337-a482-d9f99271d008",
   "metadata": {
    "execution": {
     "iopub.execute_input": "2025-05-16T16:49:42.663944Z",
     "iopub.status.busy": "2025-05-16T16:49:42.663870Z",
     "iopub.status.idle": "2025-05-16T16:49:42.703737Z",
     "shell.execute_reply": "2025-05-16T16:49:42.703492Z"
    }
   },
   "outputs": [
    {
     "name": "stdout",
     "output_type": "stream",
     "text": [
      "found 3 genes to fit: out1, out2, out3\n",
      "1 6 3\n",
      "4 3 3\n",
      "7 0 3\n",
      "start=1 stop=10\n"
     ]
    },
    {
     "ename": "Exception",
     "evalue": "missing: {'out1', 'out2', 'out3'}",
     "output_type": "error",
     "traceback": [
      "\u001b[0;31m---------------------------------------------------------------------------\u001b[0m",
      "\u001b[0;31mException\u001b[0m                                 Traceback (most recent call last)",
      "Cell \u001b[0;32mIn[5], line 1\u001b[0m\n\u001b[0;32m----> 1\u001b[0m \u001b[43mvfg\u001b[49m\u001b[38;5;241;43m.\u001b[39;49m\u001b[43mrun_lmfit2\u001b[49m\u001b[43m(\u001b[49m\u001b[38;5;241;43m1\u001b[39;49m\u001b[43m,\u001b[49m\u001b[43m \u001b[49m\u001b[38;5;241;43m10\u001b[39;49m\u001b[43m,\u001b[49m\u001b[43m \u001b[49m\u001b[43mout1\u001b[49m\u001b[38;5;241;43m=\u001b[39;49m\u001b[43mout1_goal\u001b[49m\u001b[43m,\u001b[49m\u001b[43m \u001b[49m\u001b[43mout2\u001b[49m\u001b[38;5;241;43m=\u001b[39;49m\u001b[43mout2_goal\u001b[49m\u001b[43m,\u001b[49m\u001b[43m \u001b[49m\u001b[43mout3\u001b[49m\u001b[38;5;241;43m=\u001b[39;49m\u001b[43mout3_goal\u001b[49m\u001b[43m,\u001b[49m\u001b[43m \u001b[49m\u001b[43mmethod\u001b[49m\u001b[38;5;241;43m=\u001b[39;49m\u001b[38;5;124;43m'\u001b[39;49m\u001b[38;5;124;43memcee\u001b[39;49m\u001b[38;5;124;43m'\u001b[39;49m\u001b[43m)\u001b[49m\n",
      "File \u001b[0;32m~/dev/dinkum/src/dinkum/vfg_functions.py:811\u001b[0m, in \u001b[0;36mrun_lmfit2\u001b[0;34m(start, stop, debug, method, **kwargs)\u001b[0m\n\u001b[1;32m    809\u001b[0m \u001b[38;5;66;03m# flatten values\u001b[39;00m\n\u001b[1;32m    810\u001b[0m fit_vals \u001b[38;5;241m=\u001b[39m \u001b[38;5;28mlist\u001b[39m(chain\u001b[38;5;241m.\u001b[39mfrom_iterable(\u001b[38;5;28mzip\u001b[39m(\u001b[38;5;241m*\u001b[39mfit_vals)))\n\u001b[0;32m--> 811\u001b[0m \u001b[38;5;28;01mreturn\u001b[39;00m \u001b[43mrun_lmfit\u001b[49m\u001b[43m(\u001b[49m\n\u001b[1;32m    812\u001b[0m \u001b[43m    \u001b[49m\u001b[43mstart\u001b[49m\u001b[43m,\u001b[49m\u001b[43m \u001b[49m\u001b[43mstop\u001b[49m\u001b[43m,\u001b[49m\u001b[43m \u001b[49m\u001b[43mfit_values\u001b[49m\u001b[38;5;241;43m=\u001b[39;49m\u001b[43mfit_vals\u001b[49m\u001b[43m,\u001b[49m\u001b[43m \u001b[49m\u001b[43mfit_genes\u001b[49m\u001b[38;5;241;43m=\u001b[39;49m\u001b[43mfit_gobj\u001b[49m\u001b[43m,\u001b[49m\u001b[43m \u001b[49m\u001b[43mdebug\u001b[49m\u001b[38;5;241;43m=\u001b[39;49m\u001b[43mdebug\u001b[49m\u001b[43m,\u001b[49m\u001b[43m \u001b[49m\u001b[43mmethod\u001b[49m\u001b[38;5;241;43m=\u001b[39;49m\u001b[43mmethod\u001b[49m\n\u001b[1;32m    813\u001b[0m \u001b[43m\u001b[49m\u001b[43m)\u001b[49m\n",
      "File \u001b[0;32m~/dev/dinkum/src/dinkum/vfg_functions.py:772\u001b[0m, in \u001b[0;36mrun_lmfit\u001b[0;34m(start, stop, fit_values, fit_genes, debug, method)\u001b[0m\n\u001b[1;32m    769\u001b[0m         \u001b[38;5;28mprint\u001b[39m(\u001b[38;5;124m\"\u001b[39m\u001b[38;5;124mresults:\u001b[39m\u001b[38;5;124m\"\u001b[39m, residuals)\n\u001b[1;32m    770\u001b[0m     \u001b[38;5;28;01mreturn\u001b[39;00m residuals\n\u001b[0;32m--> 772\u001b[0m params \u001b[38;5;241m=\u001b[39m \u001b[43mget_fit_params\u001b[49m\u001b[43m(\u001b[49m\u001b[43m)\u001b[49m\n\u001b[1;32m    773\u001b[0m res \u001b[38;5;241m=\u001b[39m minimize(residual, params, args\u001b[38;5;241m=\u001b[39m(times, fit_values), method\u001b[38;5;241m=\u001b[39mmethod)\n\u001b[1;32m    774\u001b[0m set_fit_params(res\u001b[38;5;241m.\u001b[39mparams)\n",
      "File \u001b[0;32m~/dev/dinkum/src/dinkum/vfg_functions.py:731\u001b[0m, in \u001b[0;36mrun_lmfit.<locals>.get_fit_params\u001b[0;34m()\u001b[0m\n\u001b[1;32m    729\u001b[0m \u001b[38;5;28;01mif\u001b[39;00m \u001b[38;5;28mlen\u001b[39m(found) \u001b[38;5;241m!=\u001b[39m \u001b[38;5;28mlen\u001b[39m(fit_genes):\n\u001b[1;32m    730\u001b[0m     missing \u001b[38;5;241m=\u001b[39m \u001b[38;5;28mset\u001b[39m([g\u001b[38;5;241m.\u001b[39mname \u001b[38;5;28;01mfor\u001b[39;00m g \u001b[38;5;129;01min\u001b[39;00m fit_genes]) \u001b[38;5;241m-\u001b[39m found\n\u001b[0;32m--> 731\u001b[0m     \u001b[38;5;28;01mraise\u001b[39;00m \u001b[38;5;167;01mException\u001b[39;00m(\u001b[38;5;124mf\u001b[39m\u001b[38;5;124m\"\u001b[39m\u001b[38;5;124mmissing: \u001b[39m\u001b[38;5;132;01m{\u001b[39;00mmissing\u001b[38;5;132;01m}\u001b[39;00m\u001b[38;5;124m\"\u001b[39m)\n\u001b[1;32m    732\u001b[0m \u001b[38;5;28;01mreturn\u001b[39;00m p\n",
      "\u001b[0;31mException\u001b[0m: missing: {'out1', 'out2', 'out3'}"
     ]
    }
   ],
   "source": [
    "vfg.run_lmfit2(1, 10, out1=out1_goal, out2=out2_goal, out3=out3_goal, method='emcee')"
   ]
  },
  {
   "cell_type": "code",
   "execution_count": 6,
   "id": "7202abce-0bf5-45ec-a1e8-60fd84aacc87",
   "metadata": {
    "execution": {
     "iopub.execute_input": "2025-05-16T16:49:42.705106Z",
     "iopub.status.busy": "2025-05-16T16:49:42.705028Z",
     "iopub.status.idle": "2025-05-16T16:49:42.711927Z",
     "shell.execute_reply": "2025-05-16T16:49:42.711707Z"
    }
   },
   "outputs": [
    {
     "ename": "NameError",
     "evalue": "name 'gene_names' is not defined",
     "output_type": "error",
     "traceback": [
      "\u001b[0;31m---------------------------------------------------------------------------\u001b[0m",
      "\u001b[0;31mNameError\u001b[0m                                 Traceback (most recent call last)",
      "Cell \u001b[0;32mIn[6], line 1\u001b[0m\n\u001b[0;32m----> 1\u001b[0m display_fn, conc_df, active_df \u001b[38;5;241m=\u001b[39m dinkum\u001b[38;5;241m.\u001b[39mrun_and_display_df(start\u001b[38;5;241m=\u001b[39m\u001b[38;5;241m1\u001b[39m, stop\u001b[38;5;241m=\u001b[39m\u001b[38;5;241m10\u001b[39m, gene_names\u001b[38;5;241m=\u001b[39m\u001b[43mgene_names\u001b[49m)\n\u001b[1;32m      2\u001b[0m display_fn\n",
      "\u001b[0;31mNameError\u001b[0m: name 'gene_names' is not defined"
     ]
    }
   ],
   "source": [
    "display_fn, conc_df, active_df = dinkum.run_and_display_df(start=1, stop=10, gene_names=gene_names)\n",
    "display_fn"
   ]
  },
  {
   "cell_type": "code",
   "execution_count": 7,
   "id": "1cb5ed6e-2cd6-4b3a-9ae3-600f8f8b271b",
   "metadata": {
    "execution": {
     "iopub.execute_input": "2025-05-16T16:49:42.713140Z",
     "iopub.status.busy": "2025-05-16T16:49:42.713068Z",
     "iopub.status.idle": "2025-05-16T16:49:42.719234Z",
     "shell.execute_reply": "2025-05-16T16:49:42.718988Z"
    }
   },
   "outputs": [
    {
     "ename": "NameError",
     "evalue": "name 'conc_df' is not defined",
     "output_type": "error",
     "traceback": [
      "\u001b[0;31m---------------------------------------------------------------------------\u001b[0m",
      "\u001b[0;31mNameError\u001b[0m                                 Traceback (most recent call last)",
      "Cell \u001b[0;32mIn[7], line 2\u001b[0m\n\u001b[1;32m      1\u001b[0m \u001b[38;5;66;03m# now let's plot the concentrations\u001b[39;00m\n\u001b[0;32m----> 2\u001b[0m \u001b[43mconc_df\u001b[49m[[\u001b[38;5;124m'\u001b[39m\u001b[38;5;124mout1\u001b[39m\u001b[38;5;124m'\u001b[39m, \u001b[38;5;124m'\u001b[39m\u001b[38;5;124mout2\u001b[39m\u001b[38;5;124m'\u001b[39m, \u001b[38;5;124m'\u001b[39m\u001b[38;5;124mout3\u001b[39m\u001b[38;5;124m'\u001b[39m]]\u001b[38;5;241m.\u001b[39mplot()\n\u001b[1;32m      3\u001b[0m plt\u001b[38;5;241m.\u001b[39mylabel(\u001b[38;5;124m'\u001b[39m\u001b[38;5;124mlevel\u001b[39m\u001b[38;5;124m'\u001b[39m)\n",
      "\u001b[0;31mNameError\u001b[0m: name 'conc_df' is not defined"
     ]
    }
   ],
   "source": [
    "# now let's plot the concentrations\n",
    "conc_df[['out1', 'out2', 'out3']].plot()\n",
    "plt.ylabel('level')\n"
   ]
  },
  {
   "cell_type": "code",
   "execution_count": null,
   "id": "120a9a3b-b462-4837-9ac0-f7ed569cfb81",
   "metadata": {},
   "outputs": [],
   "source": []
  }
 ],
 "metadata": {
  "kernelspec": {
   "display_name": "Python 3 (ipykernel)",
   "language": "python",
   "name": "python3"
  },
  "language_info": {
   "codemirror_mode": {
    "name": "ipython",
    "version": 3
   },
   "file_extension": ".py",
   "mimetype": "text/x-python",
   "name": "python",
   "nbconvert_exporter": "python",
   "pygments_lexer": "ipython3",
   "version": "3.11.8"
  },
  "widgets": {
   "application/vnd.jupyter.widget-state+json": {
    "state": {
     "99b7a20ffdf94a3491df525d9965f943": {
      "model_module": "ipycanvas",
      "model_module_version": "^0.13",
      "model_name": "CanvasManagerModel",
      "state": {
       "_model_module": "ipycanvas",
       "_model_module_version": "^0.13",
       "_model_name": "CanvasManagerModel",
       "_view_count": null,
       "_view_module": null,
       "_view_module_version": "",
       "_view_name": null
      }
     }
    },
    "version_major": 2,
    "version_minor": 0
   }
  }
 },
 "nbformat": 4,
 "nbformat_minor": 5
}
