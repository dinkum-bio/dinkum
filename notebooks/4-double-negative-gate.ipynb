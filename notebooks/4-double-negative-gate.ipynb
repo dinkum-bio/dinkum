{
 "cells": [
  {
   "cell_type": "code",
   "execution_count": null,
   "id": "51e576a7",
   "metadata": {},
   "outputs": [],
   "source": [
    "from IPython.display import Image\n",
    "\n",
    "import dinkum\n",
    "from dinkum.vfg import Gene, Receptor, Ligand\n",
    "from dinkum.vfn import Tissue\n",
    "from dinkum import Timecourse\n",
    "\n",
    "from dinkum.display import MultiTissuePanel, tc_record_activity"
   ]
  },
  {
   "cell_type": "markdown",
   "id": "157a4db7",
   "metadata": {},
   "source": [
    "## double negative gate\n",
    "\n",
    "This is a simple model of the *S. purpuratus* double negative gate that functions in early development to specify the micromere lineage.\n",
    "\n",
    "Ref: [A missing link in the sea urchin embryo gene regulatory network: hesC and the double-negative specification of micromeres](https://www.pnas.org/doi/10.1073/pnas.0705324104)"
   ]
  },
  {
   "cell_type": "code",
   "execution_count": null,
   "id": "9bf98af2",
   "metadata": {},
   "outputs": [],
   "source": [
    "dinkum.reset()\n",
    "\n",
    "# gataE, gcm, foxA\n",
    "\n",
    "# set it all up!                                                            \n",
    "pmar1 = Gene(name='pmar1')\n",
    "hesC = Gene(name='hesC')\n",
    "alx1 = Gene(name='alx1')\n",
    "delta = Ligand(name='delta')\n",
    "notch = Receptor(name='su(h)', ligand=delta)\n",
    "tbr = Gene(name='tbr')\n",
    "ets1 = Gene(name='ets1')\n",
    "gataE = Gene(name='gataE')\n",
    "gcm = Gene(name='gcm')\n",
    "foxA = Gene(name='foxA')\n",
    "\n",
    "embryo = Tissue(name='rest of embryo')\n",
    "micromere = Tissue(name='micromeres')\n",
    "embryo.add_neighbor(neighbor=micromere)\n",
    "\n",
    "# maternal genes\n",
    "early_ubiq = Gene(name='ub1')\n",
    "late_ubiq = Gene(name='ub2')\n",
    "\n",
    "## set up maternal gene expression\n",
    "\n",
    "# early ubiq\n",
    "early_ubiq.is_present(where=micromere, start=1)\n",
    "early_ubiq.is_present(where=embryo, start=1)\n",
    "\n",
    "# late ubiq\n",
    "late_ubiq.is_present(where=micromere, start=4)\n",
    "late_ubiq.is_present(where=embryo, start=4)\n",
    "\n",
    "# pmar1: maternal in micromeres only\n",
    "pmar1.is_present(where=micromere, start=1)\n",
    "\n",
    "# hesC: present in both at the beginning\n",
    "hesC.is_present(where=micromere, start=1, duration=1)\n",
    "hesC.is_present(where=embryo, start=1, duration=1)\n",
    "\n",
    "# notch: present everywhere (?)\n",
    "notch.is_present(where=micromere, start=1)\n",
    "notch.is_present(where=embryo, start=1)\n",
    "\n",
    "## set up all downstream genes\n",
    "\n",
    "# hesC: early, if not for pmar1\n",
    "hesC.and_not(activator=early_ubiq, repressor=pmar1)\n",
    "\n",
    "# alx &c: late, if not for hesC\n",
    "alx1.and_not(activator=late_ubiq, repressor=hesC)\n",
    "delta.and_not(activator=late_ubiq, repressor=hesC)\n",
    "tbr.and_not(activator=late_ubiq, repressor=hesC)\n",
    "ets1.and_not(activator=late_ubiq, repressor=hesC)\n",
    "\n",
    "# gataE, gcm, foxA: all activated by notch\n",
    "gataE.activated_by_and(sources=[late_ubiq, notch])\n",
    "gcm.activated_by_and(sources=[late_ubiq, notch])\n",
    "foxA.activated_by_and(sources=[late_ubiq, notch])\n",
    "\n",
    "states, tissues, is_active_fn = tc_record_activity(stop=8)\n",
    "\n",
    "mp = MultiTissuePanel(states=states, tissue_names=['micromeres', 'rest of embryo'],\n",
    "                      genes_by_name=[early_ubiq.name, late_ubiq.name, pmar1.name, hesC.name,\n",
    "                                     delta.name, alx1.name, tbr.name, ets1.name,\n",
    "                                     notch.name, foxA.name, gataE.name, gcm.name])\n",
    "mp.draw(is_active_fn)"
   ]
  },
  {
   "cell_type": "code",
   "execution_count": null,
   "id": "cdbd1047",
   "metadata": {},
   "outputs": [],
   "source": []
  }
 ],
 "metadata": {
  "kernelspec": {
   "display_name": "py38arm",
   "language": "python",
   "name": "py38arm"
  },
  "language_info": {
   "codemirror_mode": {
    "name": "ipython",
    "version": 3
   },
   "file_extension": ".py",
   "mimetype": "text/x-python",
   "name": "python",
   "nbconvert_exporter": "python",
   "pygments_lexer": "ipython3",
   "version": "3.8.13"
  }
 },
 "nbformat": 4,
 "nbformat_minor": 5
}
